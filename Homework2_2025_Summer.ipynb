{
  "cells": [
    {
      "cell_type": "markdown",
      "metadata": {
        "id": "view-in-github",
        "colab_type": "text"
      },
      "source": [
        "<a href=\"https://colab.research.google.com/github/david132313/JavaCoding/blob/main/Homework2_2025_Summer.ipynb\" target=\"_parent\"><img src=\"https://colab.research.google.com/assets/colab-badge.svg\" alt=\"Open In Colab\"/></a>"
      ]
    },
    {
      "cell_type": "markdown",
      "id": "d4b30926",
      "metadata": {
        "id": "d4b30926"
      },
      "source": [
        "## Requirement of Submission\n",
        "1. Please directly write your code in this file and submit your `.ipynb` file to Brightspace. Do NOT accept `.py` files.\n",
        "2. NO extended deadline.\n",
        "3. Please check your answers before the submission."
      ]
    },
    {
      "cell_type": "markdown",
      "id": "1151cdd7",
      "metadata": {
        "id": "1151cdd7"
      },
      "source": [
        "# Homework 2"
      ]
    },
    {
      "cell_type": "markdown",
      "id": "9e2d3528",
      "metadata": {
        "id": "9e2d3528"
      },
      "source": [
        "## 1.\n",
        "\n",
        "Write down all the methods/functions we have learned in Pandas Module."
      ]
    },
    {
      "cell_type": "code",
      "source": [],
      "metadata": {
        "id": "EfdZitHK4M8W"
      },
      "id": "EfdZitHK4M8W",
      "execution_count": null,
      "outputs": []
    },
    {
      "cell_type": "markdown",
      "source": [
        "##  2\n",
        "\n",
        "Take the file **weight-height.csv** which can be found in the Google Drive folder and read it into a Pandas DataFrame.\n",
        "\n",
        "Using the pandas cut method, bin the **weights of women** into the following groups:\n",
        "\n",
        "less than 100 pounds, 100-130, 130-160, 160-190, and over 190.\n",
        "\n",
        "Then use value_counts to find how many weights fall into each bin."
      ],
      "metadata": {
        "id": "QyoYR_By9m3l"
      },
      "id": "QyoYR_By9m3l"
    },
    {
      "cell_type": "code",
      "source": [],
      "metadata": {
        "id": "UaUR5FtjxQSn"
      },
      "id": "UaUR5FtjxQSn",
      "execution_count": null,
      "outputs": []
    },
    {
      "cell_type": "markdown",
      "source": [
        "## 3\n",
        "\n",
        "A company stores its sales data into three CSV files. \"customer.csv\", \"products.csv\", and \"sales.csv\", can be found in the Google Drive folder and read them into Pandas DataFrames.\n",
        "\n",
        "\"customer.csv\" -> DataFrame \"customer_df\"\\\n",
        "\"products.csv\" -> DataFrame \"products_df\"\\\n",
        "\"sales.csv\" -> DataFrame \"sales_df\"\n",
        "\n"
      ],
      "metadata": {
        "id": "z3hOLQh1xQyI"
      },
      "id": "z3hOLQh1xQyI"
    },
    {
      "cell_type": "markdown",
      "source": [
        "(1) Get the general information of ```sales_df```. Then change the column names of ```sales_df``` to uppercase letters. Then change 'C_ID' and 'P_ID' to 'CUSTOMER_ID' and 'PRODUCT_ID', respectively. (10%)"
      ],
      "metadata": {
        "id": "e4NsI47BySQy"
      },
      "id": "e4NsI47BySQy"
    },
    {
      "cell_type": "code",
      "source": [],
      "metadata": {
        "id": "yXmItxoO9QvB"
      },
      "id": "yXmItxoO9QvB",
      "execution_count": null,
      "outputs": []
    },
    {
      "cell_type": "markdown",
      "source": [
        "(2) In ```sales_df```, find the total sold quantity for each product. Show 3 columns, 'PRODUCT', 'PRODUCT_ID', and 'QTY'.\n",
        "\n"
      ],
      "metadata": {
        "id": "xPJOLoRLzJvI"
      },
      "id": "xPJOLoRLzJvI"
    },
    {
      "cell_type": "code",
      "source": [],
      "metadata": {
        "id": "CyVl41X89lHL"
      },
      "id": "CyVl41X89lHL",
      "execution_count": null,
      "outputs": []
    },
    {
      "cell_type": "markdown",
      "source": [
        "(3) In `sales_df`, find the total sold quantity for each product in each store. Show 4 columns, 'PRODUCT', 'PRODUCT_ID', 'STORE' and 'QTY'."
      ],
      "metadata": {
        "id": "VSn6fMtw3U_K"
      },
      "id": "VSn6fMtw3U_K"
    },
    {
      "cell_type": "code",
      "source": [],
      "metadata": {
        "id": "SZxcBhDk9no4"
      },
      "id": "SZxcBhDk9no4",
      "execution_count": null,
      "outputs": []
    },
    {
      "cell_type": "markdown",
      "source": [
        "(4) In ```sales_df``` and ```products_df```, find the total sales for each product. Show 2 columns, 'PRODUCT_ID' and 'Total_sale' (Total_sale = quantity * price/piece)."
      ],
      "metadata": {
        "id": "ODy8EEKP1ivt"
      },
      "id": "ODy8EEKP1ivt"
    },
    {
      "cell_type": "code",
      "source": [],
      "metadata": {
        "id": "jqanwweR99gI"
      },
      "id": "jqanwweR99gI",
      "execution_count": null,
      "outputs": []
    },
    {
      "cell_type": "markdown",
      "source": [
        "(5) In ```sales_df``` and ```products_df```, find the total sales in each store. Show 3 columns, 'STORE', 'QTY', and 'store_sales'."
      ],
      "metadata": {
        "id": "kb-MFfUw8Sog"
      },
      "id": "kb-MFfUw8Sog"
    },
    {
      "cell_type": "code",
      "source": [],
      "metadata": {
        "id": "KpWhO_es-FQK"
      },
      "id": "KpWhO_es-FQK",
      "execution_count": null,
      "outputs": []
    },
    {
      "cell_type": "markdown",
      "source": [
        "(6) In ```sales_df``` and ```products_df```, find the products which are not sold yet.  Show 'PRODUCT_ID' and 'product'."
      ],
      "metadata": {
        "id": "fPcGOwPL-x6t"
      },
      "id": "fPcGOwPL-x6t"
    },
    {
      "cell_type": "code",
      "source": [],
      "metadata": {
        "id": "DoKPECzo-J35"
      },
      "id": "DoKPECzo-J35",
      "execution_count": null,
      "outputs": []
    },
    {
      "cell_type": "markdown",
      "source": [
        "(7) In ```sales_df``` and ```customers_df```, find the customers who have not purchased any product. Show 2 columns \"CUSTOMER_ID\" and \"Customer\"."
      ],
      "metadata": {
        "id": "han9FsL3An-q"
      },
      "id": "han9FsL3An-q"
    },
    {
      "cell_type": "code",
      "source": [],
      "metadata": {
        "id": "oGR3_bHH-SMx"
      },
      "id": "oGR3_bHH-SMx",
      "execution_count": null,
      "outputs": []
    },
    {
      "cell_type": "markdown",
      "source": [
        "(8) In `products_df`, swap the first row and the last row. Swap the first column and the last column."
      ],
      "metadata": {
        "id": "rSHd-tXX4fPU"
      },
      "id": "rSHd-tXX4fPU"
    },
    {
      "cell_type": "code",
      "source": [],
      "metadata": {
        "id": "MZ9kQZhz4cjP"
      },
      "id": "MZ9kQZhz4cjP",
      "execution_count": null,
      "outputs": []
    },
    {
      "cell_type": "markdown",
      "source": [
        "(9) Delete the column 'PRODUCT' in sales_df."
      ],
      "metadata": {
        "id": "uyY8ODC02eZv"
      },
      "id": "uyY8ODC02eZv"
    },
    {
      "cell_type": "code",
      "source": [],
      "metadata": {
        "id": "-UCGqJog5_4x"
      },
      "id": "-UCGqJog5_4x",
      "execution_count": null,
      "outputs": []
    },
    {
      "cell_type": "markdown",
      "source": [
        "## 4\n",
        "\n",
        " There is an excel file `stu_excel.xlsx` in the data folder.\n"
      ],
      "metadata": {
        "id": "F1Xfe0zp6X2k"
      },
      "id": "F1Xfe0zp6X2k"
    },
    {
      "cell_type": "markdown",
      "source": [
        "(1) Read the content in this file to a dataframe `df_stu`"
      ],
      "metadata": {
        "id": "ZhuCjIJv7Ao-"
      },
      "id": "ZhuCjIJv7Ao-"
    },
    {
      "cell_type": "code",
      "source": [],
      "metadata": {
        "id": "gFDUZE9T7GuA"
      },
      "id": "gFDUZE9T7GuA",
      "execution_count": null,
      "outputs": []
    },
    {
      "cell_type": "markdown",
      "source": [
        "(2) Remove the first column. Replace all the nulls to empty string ''."
      ],
      "metadata": {
        "id": "l2iO9_Y17HLe"
      },
      "id": "l2iO9_Y17HLe"
    },
    {
      "cell_type": "code",
      "source": [],
      "metadata": {
        "id": "4rNQe8A27Ksn"
      },
      "id": "4rNQe8A27Ksn",
      "execution_count": null,
      "outputs": []
    },
    {
      "cell_type": "markdown",
      "source": [
        "(3) In column `Grade`, there is one missing `Grade` for `Algorithms`. Replace that cell with the mean grade of Algorithms."
      ],
      "metadata": {
        "id": "FdtbqyQS7LDT"
      },
      "id": "FdtbqyQS7LDT"
    },
    {
      "cell_type": "code",
      "source": [],
      "metadata": {
        "id": "N0DmpQ2D7PJg"
      },
      "id": "N0DmpQ2D7PJg",
      "execution_count": null,
      "outputs": []
    }
  ],
  "metadata": {
    "kernelspec": {
      "display_name": "Python 3 (ipykernel)",
      "language": "python",
      "name": "python3"
    },
    "language_info": {
      "codemirror_mode": {
        "name": "ipython",
        "version": 3
      },
      "file_extension": ".py",
      "mimetype": "text/x-python",
      "name": "python",
      "nbconvert_exporter": "python",
      "pygments_lexer": "ipython3",
      "version": "3.10.9"
    },
    "colab": {
      "provenance": [],
      "include_colab_link": true
    }
  },
  "nbformat": 4,
  "nbformat_minor": 5
}